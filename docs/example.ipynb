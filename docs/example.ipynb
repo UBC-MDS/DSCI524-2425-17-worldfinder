{
    "cells": [
        {
            "cell_type": "markdown",
            "metadata": {},
            "source": [
                "# Worldfinder Tutorial\n",
                "\n",
                "Welcome to the Worldfinder package documentation! This package offers a suite of functions designed to give you information about any city or country that you are interested in. Here, we illustrate the usage of these functions with real-life examples, featuring James, a world explorer and developer passionate about geography.\n",
                "\n",
                "## James’s Journey\n",
                "\n",
                "Ever since James was a child, he has been fascinated by cities and countries around the world. He’s even memorized the names of most major cities and countries. James loves this stuff and wants to try turning his passion into a game. The game would challenge players by asking questions about country capitals, country statistics, pairing cities with countries, and even trivia like how many countries share the same city names.\n",
                "\n",
                "His idea is to have players input their answers in a text box, which will then be compared with the correct answer. To bring his idea to life, he needs a reliable source of country and city data—without incurring any costs from API calls.\n",
                "\n",
                "This is where our library shines! It provides a robust dataset with 4 easy-to-use functions, which we’ll dive into below."
            ]
        },
        {
            "cell_type": "markdown",
            "metadata": {},
            "source": [
                "## Let's get started!\n",
                "To use `worldfinder` in a project you should first do the following to import"
            ]
        },
        {
            "cell_type": "code",
            "execution_count": 4,
            "metadata": {},
            "outputs": [],
            "source": [
                "import worldfinder"
            ]
        },
        {
            "cell_type": "code",
            "execution_count": 5,
            "metadata": {},
            "outputs": [],
            "source": [
                "# Cause we're running from inside our package already, we have to set our working directory back to the root\n",
                "# Note: We want to hide this output in our html\n",
                "import os\n",
                "\n",
                "if (os.getcwd().endswith('docs')):\n",
                "    os.chdir(\"../\")"
            ]
        },
        {
            "cell_type": "markdown",
            "metadata": {},
            "source": [
                "You can verify your worldfinder version by doing the following:"
            ]
        },
        {
            "cell_type": "code",
            "execution_count": 6,
            "metadata": {},
            "outputs": [
                {
                    "name": "stdout",
                    "output_type": "stream",
                    "text": [
                        "0.0.1\n"
                    ]
                }
            ],
            "source": [
                "print(worldfinder.__version__)"
            ]
        },
        {
            "cell_type": "markdown",
            "metadata": {},
            "source": [
                "James wants to start off his game with an easy question for his players, the capital! So he needs the answer for every country capital there is to compare his user's answers with.\n",
                "\n",
                "So, let's get started with our first function:\n",
                "\n",
                "## get_capital"
            ]
        },
        {
            "cell_type": "markdown",
            "metadata": {},
            "source": [
                "First, we'll want to go into our library and get the function like below:"
            ]
        },
        {
            "cell_type": "code",
            "execution_count": 7,
            "metadata": {},
            "outputs": [],
            "source": [
                "from worldfinder.get_capital import get_capital"
            ]
        },
        {
            "cell_type": "markdown",
            "metadata": {},
            "source": [
                "Nice! Now that that's loaded, all we have to do is pass the country name as a string to the function."
            ]
        },
        {
            "cell_type": "code",
            "execution_count": 8,
            "metadata": {},
            "outputs": [
                {
                    "data": {
                        "text/plain": [
                            "'Bern'"
                        ]
                    },
                    "execution_count": 8,
                    "metadata": {},
                    "output_type": "execute_result"
                }
            ],
            "source": [
                "get_capital(\"Switzerland\")"
            ]
        },
        {
            "cell_type": "markdown",
            "metadata": {},
            "source": [
                "Nice! James now has a reliable way of getting the appropriate capital of any country he chooses to ask his players."
            ]
        },
        {
            "cell_type": "markdown",
            "metadata": {},
            "source": [
                "## get_country_statistic\n",
                "\n",
                "Say that James wants to find out certain information about a country such as how many people live there. Well with the worldfinder package, James can do that easily with our `get_country_statistic` function.\n",
                "\n",
                "First let's import the function below:"
            ]
        },
        {
            "cell_type": "code",
            "execution_count": 9,
            "metadata": {},
            "outputs": [],
            "source": [
                "from worldfinder.get_country_statistic import get_country_statistic"
            ]
        },
        {
            "cell_type": "markdown",
            "metadata": {},
            "source": [
                "Once the function is loaded, James can call it by passing in 2 strings: the first for the name of the country and the second for the statistic that he wants to look up. As of now, there are 5 acceptable options for the statistic string:\n",
                "\n",
                "- population: The number of people living in the country\n",
                "- gdp: The country's gross domestic product\n",
                "- birth rate: Number of births per 1,000 population per year\n",
                "- cpi: Consumer Price Index, a measure of inflation and purchasing power\n",
                "- Unemployment Rate: Percentage of the labor force that is unemployed\n",
                "\n",
                "Let's try finding out what the population of Canada is:"
            ]
        },
        {
            "cell_type": "code",
            "execution_count": 10,
            "metadata": {},
            "outputs": [
                {
                    "data": {
                        "text/plain": [
                            "'36,991,981'"
                        ]
                    },
                    "execution_count": 10,
                    "metadata": {},
                    "output_type": "execute_result"
                }
            ],
            "source": [
                "get_country_statistic(\"canada\", \"population\")"
            ]
        },
        {
            "cell_type": "markdown",
            "metadata": {},
            "source": [
                "Looks good! James can now impress his friends by showing off his vast knowledge of country trivia!"
            ]
        },
        {
            "cell_type": "markdown",
            "metadata": {},
            "source": [
                "## get_countries\n",
                "\n",
                "You know what? London appeared not only in Britain but also in the United States and Canada. In fact, different countries may have the same city name. With the worldfinder package, James can find out how many countries share the same city names by using our `get_countries` function.\n",
                "\n",
                "First let's import the function below:"
            ]
        },
        {
            "cell_type": "code",
            "execution_count": 11,
            "metadata": {},
            "outputs": [],
            "source": [
                "from worldfinder.get_countries import get_countries"
            ]
        },
        {
            "cell_type": "markdown",
            "metadata": {},
            "source": [
                "Now we have `get_countries` successfully loaded and is there for James to use! James can input the city name as a string to the function and it will return a list of countries that all share the same city name."
            ]
        },
        {
            "cell_type": "code",
            "execution_count": 12,
            "metadata": {},
            "outputs": [
                {
                    "data": {
                        "text/plain": [
                            "['Canada', 'United Kingdom', 'United States']"
                        ]
                    },
                    "execution_count": 12,
                    "metadata": {},
                    "output_type": "execute_result"
                }
            ],
            "source": [
                "get_countries(\"London\")"
            ]
        },
        {
            "cell_type": "markdown",
            "metadata": {},
            "source": [
                "Great! James and his friends can use this function to get answers and start the competition!"
            ]
        },
        {
            "cell_type": "markdown",
            "metadata": {},
            "source": [
                "## Final Remarks\n",
                "We hope these examples are informative on the usage of the different functions in our package. If anything remains unclear, we suggest reviewing the function documentation or creating an issue in our repository and we will get back to you."
            ]
        }
    ],
    "metadata": {
        "kernelspec": {
            "display_name": "pycounts",
            "language": "python",
            "name": "python3"
        },
        "language_info": {
            "codemirror_mode": {
                "name": "ipython",
                "version": 3
            },
            "file_extension": ".py",
            "mimetype": "text/x-python",
            "name": "python",
            "nbconvert_exporter": "python",
            "pygments_lexer": "ipython3",
            "version": "3.10.16"
        }
    },
    "nbformat": 4,
    "nbformat_minor": 4
}
