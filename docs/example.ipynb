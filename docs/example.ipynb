{
    "cells": [
        {
            "cell_type": "markdown",
            "metadata": {},
            "source": [
                "# Worldfinder Tutorial\n",
                "\n",
                "Welcome to the Worldfinder package documentation! This package offers a suite of functions designed to give you information about any city and country that you are interested in. Here, we illustrate the usage of these functions with real-life examples, featuring James, a world explorer who loves to learn about the cities and countries of the world.\n",
                "\n",
                "## James's Journey\n",
                "Every since James was a child, he has been fascinated about cities and countries of the world. He has memorized the names of most of the major cities and countries in the world. However, there are still a lot of places that he doesn't know of and he still wants to learn more about them. As such, James has decided to get more information about different cities and countries by using our Worldfinder functions."
            ]
        },
        {
            "cell_type": "markdown",
            "metadata": {},
            "source": [
                "# Example usage\n",
                "\n",
                "To use `worldfinder` in a project:"
            ]
        },
        {
            "cell_type": "code",
            "execution_count": null,
            "metadata": {},
            "outputs": [],
            "source": [
                "import worldfinder\n",
                "\n",
                "print(worldfinder.__version__)"
            ]
        },
        {
            "cell_type": "markdown",
            "metadata": {},
            "source": [
                "## Final Remarks\n",
                "We hope these examples are informative on the usage of the different functions in our package. If anything remains unclear, we suggest reviewing the function documentation or creating an issue in our repository and we will get back to you."
            ]
        }
    ],
    "metadata": {
        "kernelspec": {
            "display_name": "Python 3",
            "language": "python",
            "name": "python3"
        },
        "language_info": {
            "codemirror_mode": {
                "name": "ipython",
                "version": 3
            },
            "file_extension": ".py",
            "mimetype": "text/x-python",
            "name": "python",
            "nbconvert_exporter": "python",
            "pygments_lexer": "ipython3",
            "version": "3.8.5"
        }
    },
    "nbformat": 4,
    "nbformat_minor": 4
}
